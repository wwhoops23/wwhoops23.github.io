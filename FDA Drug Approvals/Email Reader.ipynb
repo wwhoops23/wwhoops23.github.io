{
 "cells": [
  {
   "cell_type": "markdown",
   "id": "30cb2f50",
   "metadata": {},
   "source": [
    "# Export Email Content to CSV\n",
    "\n",
    "- This code simply iterates through email files and extracts the sender and receiver information and content"
   ]
  },
  {
   "cell_type": "code",
   "execution_count": 4,
   "id": "aa972760",
   "metadata": {},
   "outputs": [
    {
     "name": "stdout",
     "output_type": "stream",
     "text": [
      "Andrea Lee <andrea.lee@alverno.edu>\n"
     ]
    }
   ],
   "source": [
    "import os\n",
    "import email\n",
    "import pandas as pd\n",
    "\n",
    "# Function to extract email addresses from email messages\n",
    "def extract_email_data(file_path):\n",
    "    with open(file_path, 'r', encoding='utf-8') as file:\n",
    "        msg = email.message_from_file(file)\n",
    "        sender = msg.get('From')\n",
    "        receiver = msg.get('To')\n",
    "        content = ''\n",
    "        if msg.is_multipart():\n",
    "            for part in msg.walk():\n",
    "                if part.get_content_type() == 'text/plain':\n",
    "                    content += part.get_payload(decode=True).decode('utf-8', 'ignore')\n",
    "        else:\n",
    "            content = msg.get_payload(decode=True).decode('utf-8', 'ignore')\n",
    "        return sender, receiver, content\n",
    "\n",
    "# Path to the folder containing email messages\n",
    "folder_path = 'INSERT HERE'\n",
    "output_folder = 'INSERT HERE'  # Path to the folder where you want to save the CSV\n",
    "\n",
    "# List to store email data\n",
    "data = []\n",
    "\n",
    "# Iterate through each file in the folder\n",
    "for filename in os.listdir(folder_path):\n",
    "    file_path = os.path.join(folder_path, filename)\n",
    "    if os.path.isfile(file_path):\n",
    "        sender, receiver, content = extract_email_data(file_path)\n",
    "        data.append({'Sender': sender, 'Receiver': receiver, 'Content': content})\n",
    "\n",
    "# Create a DataFrame\n",
    "df = pd.DataFrame(data)\n",
    "\n",
    "# Output the DataFrame\n",
    "output_csv = os.path.join(output_folder, 'email_addresses.csv')\n",
    "df.to_csv(output_csv, index=False)\n",
    "\n"
   ]
  },
  {
   "cell_type": "code",
   "execution_count": 9,
   "id": "31d8351b",
   "metadata": {},
   "outputs": [],
   "source": [
    "\n"
   ]
  },
  {
   "cell_type": "code",
   "execution_count": null,
   "id": "b9a93d92",
   "metadata": {},
   "outputs": [],
   "source": []
  }
 ],
 "metadata": {
  "kernelspec": {
   "display_name": "Python 3",
   "language": "python",
   "name": "python3"
  },
  "language_info": {
   "codemirror_mode": {
    "name": "ipython",
    "version": 3
   },
   "file_extension": ".py",
   "mimetype": "text/x-python",
   "name": "python",
   "nbconvert_exporter": "python",
   "pygments_lexer": "ipython3",
   "version": "3.8.8"
  }
 },
 "nbformat": 4,
 "nbformat_minor": 5
}
