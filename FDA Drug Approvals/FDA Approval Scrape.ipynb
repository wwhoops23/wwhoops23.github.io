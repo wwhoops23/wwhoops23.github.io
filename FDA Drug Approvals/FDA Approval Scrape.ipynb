{
 "cells": [
  {
   "cell_type": "markdown",
   "id": "88211b01",
   "metadata": {},
   "source": [
    "# FDA Drug Approval Scrape\n",
    "## By: Jake Indursky\n",
    "\n",
    "### Process:\n",
    "- The FDA drug approval website has unique pages for each month of drug approvals \n",
    "- Instead of downloading 480 unique CSVs, this code iterates through each month's web page \n",
    "    - and scrapes the information into a dataframe\n",
    "\n",
    "### Notes:\n",
    "- There are some months that had to be skipped over and need to be manually input"
   ]
  },
  {
   "cell_type": "markdown",
   "id": "40849478",
   "metadata": {},
   "source": [
    "### Scrape FDA Website"
   ]
  },
  {
   "cell_type": "code",
   "execution_count": 40,
   "id": "831c69bf",
   "metadata": {},
   "outputs": [],
   "source": [
    "import requests\n",
    "from bs4 import BeautifulSoup\n",
    "import pandas as pd\n",
    "import datetime\n",
    "\n",
    "months_back = 12 * 40\n",
    "current_date = datetime.datetime.now()\n",
    "\n",
    "def get_data_for_month(month, year):\n",
    "    url = f\"https://www.accessdata.fda.gov/scripts/cder/daf/index.cfm?event=reportsSearch.process&rptName=1&reportSelectMonth={month}&reportSelectYear={year}&nav\"\n",
    "    response = requests.get(url)\n",
    "    soup = BeautifulSoup(response.text, \"html.parser\")\n",
    "    table = soup.find(\"table\")\n",
    "    if table:\n",
    "        df = pd.read_html(str(table))[0]\n",
    "        df['Month'] = f\"{month}/{year}\"\n",
    "        return df\n",
    "    else:\n",
    "        return pd.DataFrame({\"Month\": [f\"{month}/{year}\"], \"NO TABLE FOUND\": [True]})\n",
    "\n",
    "current_date = datetime.datetime.now()\n",
    "all_data = []\n",
    "\n",
    "for i in range(12*40):\n",
    "    month = current_date.month\n",
    "    year = current_date.year\n",
    "    df = get_data_for_month(month, year)\n",
    "    all_data.append(df)\n",
    "    current_date -= datetime.timedelta(days=30)\n",
    "\n",
    "result = pd.concat(all_data)"
   ]
  },
 ],
 "metadata": {
  "kernelspec": {
   "display_name": "Python 3",
   "language": "python",
   "name": "python3"
  },
  "language_info": {
   "codemirror_mode": {
    "name": "ipython",
    "version": 3
   },
   "file_extension": ".py",
   "mimetype": "text/x-python",
   "name": "python",
   "nbconvert_exporter": "python",
   "pygments_lexer": "ipython3",
   "version": "3.8.8"
  }
 },
 "nbformat": 4,
 "nbformat_minor": 5
}
